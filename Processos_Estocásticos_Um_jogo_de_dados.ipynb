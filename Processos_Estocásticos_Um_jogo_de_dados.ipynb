{
  "nbformat": 4,
  "nbformat_minor": 0,
  "metadata": {
    "colab": {
      "name": "Processos Estocásticos - Um jogo de dados",
      "provenance": [],
      "authorship_tag": "ABX9TyMJVmiyE2qKKsoNTiqUQvPs",
      "include_colab_link": true
    },
    "kernelspec": {
      "name": "python3",
      "display_name": "Python 3"
    },
    "language_info": {
      "name": "python"
    }
  },
  "cells": [
    {
      "cell_type": "markdown",
      "metadata": {
        "id": "view-in-github",
        "colab_type": "text"
      },
      "source": [
        "<a href=\"https://colab.research.google.com/github/Andrey-Pereira/Processos-Estoc-sticos/blob/main/Processos_Estoc%C3%A1sticos_Um_jogo_de_dados.ipynb\" target=\"_parent\"><img src=\"https://colab.research.google.com/assets/colab-badge.svg\" alt=\"Open In Colab\"/></a>"
      ]
    },
    {
      "cell_type": "code",
      "metadata": {
        "id": "W5ZQV2wgkz8L",
        "colab": {
          "base_uri": "https://localhost:8080/"
        },
        "outputId": "ff72f789-5372-422a-dd29-928d905e9836"
      },
      "source": [
        "import numpy as np\n",
        "import matplotlib.pyplot as plt\n",
        "import random\n",
        "\n",
        "nf = 6\n",
        "nr = nf*nf*nf\n",
        "R= np.zeros((nr,3))\n",
        "for i in range(1,nf+1):\n",
        "  for j in range(1,nf+1):\n",
        "    for k in range(1,nf+1):\n",
        "      R[(i-1)*nf**2 + (j-1)*nf + (k-1),0] = i\n",
        "      R[(i-1)*nf**2 + (j-1)*nf + (k-1),1] = j\n",
        "      R[(i-1)*nf**2 + (j-1)*nf + (k-1),2] = k\n",
        "print(R)"
      ],
      "execution_count": null,
      "outputs": [
        {
          "output_type": "stream",
          "text": [
            "[[1. 1. 1.]\n",
            " [1. 1. 2.]\n",
            " [1. 1. 3.]\n",
            " [1. 1. 4.]\n",
            " [1. 1. 5.]\n",
            " [1. 1. 6.]\n",
            " [1. 2. 1.]\n",
            " [1. 2. 2.]\n",
            " [1. 2. 3.]\n",
            " [1. 2. 4.]\n",
            " [1. 2. 5.]\n",
            " [1. 2. 6.]\n",
            " [1. 3. 1.]\n",
            " [1. 3. 2.]\n",
            " [1. 3. 3.]\n",
            " [1. 3. 4.]\n",
            " [1. 3. 5.]\n",
            " [1. 3. 6.]\n",
            " [1. 4. 1.]\n",
            " [1. 4. 2.]\n",
            " [1. 4. 3.]\n",
            " [1. 4. 4.]\n",
            " [1. 4. 5.]\n",
            " [1. 4. 6.]\n",
            " [1. 5. 1.]\n",
            " [1. 5. 2.]\n",
            " [1. 5. 3.]\n",
            " [1. 5. 4.]\n",
            " [1. 5. 5.]\n",
            " [1. 5. 6.]\n",
            " [1. 6. 1.]\n",
            " [1. 6. 2.]\n",
            " [1. 6. 3.]\n",
            " [1. 6. 4.]\n",
            " [1. 6. 5.]\n",
            " [1. 6. 6.]\n",
            " [2. 1. 1.]\n",
            " [2. 1. 2.]\n",
            " [2. 1. 3.]\n",
            " [2. 1. 4.]\n",
            " [2. 1. 5.]\n",
            " [2. 1. 6.]\n",
            " [2. 2. 1.]\n",
            " [2. 2. 2.]\n",
            " [2. 2. 3.]\n",
            " [2. 2. 4.]\n",
            " [2. 2. 5.]\n",
            " [2. 2. 6.]\n",
            " [2. 3. 1.]\n",
            " [2. 3. 2.]\n",
            " [2. 3. 3.]\n",
            " [2. 3. 4.]\n",
            " [2. 3. 5.]\n",
            " [2. 3. 6.]\n",
            " [2. 4. 1.]\n",
            " [2. 4. 2.]\n",
            " [2. 4. 3.]\n",
            " [2. 4. 4.]\n",
            " [2. 4. 5.]\n",
            " [2. 4. 6.]\n",
            " [2. 5. 1.]\n",
            " [2. 5. 2.]\n",
            " [2. 5. 3.]\n",
            " [2. 5. 4.]\n",
            " [2. 5. 5.]\n",
            " [2. 5. 6.]\n",
            " [2. 6. 1.]\n",
            " [2. 6. 2.]\n",
            " [2. 6. 3.]\n",
            " [2. 6. 4.]\n",
            " [2. 6. 5.]\n",
            " [2. 6. 6.]\n",
            " [3. 1. 1.]\n",
            " [3. 1. 2.]\n",
            " [3. 1. 3.]\n",
            " [3. 1. 4.]\n",
            " [3. 1. 5.]\n",
            " [3. 1. 6.]\n",
            " [3. 2. 1.]\n",
            " [3. 2. 2.]\n",
            " [3. 2. 3.]\n",
            " [3. 2. 4.]\n",
            " [3. 2. 5.]\n",
            " [3. 2. 6.]\n",
            " [3. 3. 1.]\n",
            " [3. 3. 2.]\n",
            " [3. 3. 3.]\n",
            " [3. 3. 4.]\n",
            " [3. 3. 5.]\n",
            " [3. 3. 6.]\n",
            " [3. 4. 1.]\n",
            " [3. 4. 2.]\n",
            " [3. 4. 3.]\n",
            " [3. 4. 4.]\n",
            " [3. 4. 5.]\n",
            " [3. 4. 6.]\n",
            " [3. 5. 1.]\n",
            " [3. 5. 2.]\n",
            " [3. 5. 3.]\n",
            " [3. 5. 4.]\n",
            " [3. 5. 5.]\n",
            " [3. 5. 6.]\n",
            " [3. 6. 1.]\n",
            " [3. 6. 2.]\n",
            " [3. 6. 3.]\n",
            " [3. 6. 4.]\n",
            " [3. 6. 5.]\n",
            " [3. 6. 6.]\n",
            " [4. 1. 1.]\n",
            " [4. 1. 2.]\n",
            " [4. 1. 3.]\n",
            " [4. 1. 4.]\n",
            " [4. 1. 5.]\n",
            " [4. 1. 6.]\n",
            " [4. 2. 1.]\n",
            " [4. 2. 2.]\n",
            " [4. 2. 3.]\n",
            " [4. 2. 4.]\n",
            " [4. 2. 5.]\n",
            " [4. 2. 6.]\n",
            " [4. 3. 1.]\n",
            " [4. 3. 2.]\n",
            " [4. 3. 3.]\n",
            " [4. 3. 4.]\n",
            " [4. 3. 5.]\n",
            " [4. 3. 6.]\n",
            " [4. 4. 1.]\n",
            " [4. 4. 2.]\n",
            " [4. 4. 3.]\n",
            " [4. 4. 4.]\n",
            " [4. 4. 5.]\n",
            " [4. 4. 6.]\n",
            " [4. 5. 1.]\n",
            " [4. 5. 2.]\n",
            " [4. 5. 3.]\n",
            " [4. 5. 4.]\n",
            " [4. 5. 5.]\n",
            " [4. 5. 6.]\n",
            " [4. 6. 1.]\n",
            " [4. 6. 2.]\n",
            " [4. 6. 3.]\n",
            " [4. 6. 4.]\n",
            " [4. 6. 5.]\n",
            " [4. 6. 6.]\n",
            " [5. 1. 1.]\n",
            " [5. 1. 2.]\n",
            " [5. 1. 3.]\n",
            " [5. 1. 4.]\n",
            " [5. 1. 5.]\n",
            " [5. 1. 6.]\n",
            " [5. 2. 1.]\n",
            " [5. 2. 2.]\n",
            " [5. 2. 3.]\n",
            " [5. 2. 4.]\n",
            " [5. 2. 5.]\n",
            " [5. 2. 6.]\n",
            " [5. 3. 1.]\n",
            " [5. 3. 2.]\n",
            " [5. 3. 3.]\n",
            " [5. 3. 4.]\n",
            " [5. 3. 5.]\n",
            " [5. 3. 6.]\n",
            " [5. 4. 1.]\n",
            " [5. 4. 2.]\n",
            " [5. 4. 3.]\n",
            " [5. 4. 4.]\n",
            " [5. 4. 5.]\n",
            " [5. 4. 6.]\n",
            " [5. 5. 1.]\n",
            " [5. 5. 2.]\n",
            " [5. 5. 3.]\n",
            " [5. 5. 4.]\n",
            " [5. 5. 5.]\n",
            " [5. 5. 6.]\n",
            " [5. 6. 1.]\n",
            " [5. 6. 2.]\n",
            " [5. 6. 3.]\n",
            " [5. 6. 4.]\n",
            " [5. 6. 5.]\n",
            " [5. 6. 6.]\n",
            " [6. 1. 1.]\n",
            " [6. 1. 2.]\n",
            " [6. 1. 3.]\n",
            " [6. 1. 4.]\n",
            " [6. 1. 5.]\n",
            " [6. 1. 6.]\n",
            " [6. 2. 1.]\n",
            " [6. 2. 2.]\n",
            " [6. 2. 3.]\n",
            " [6. 2. 4.]\n",
            " [6. 2. 5.]\n",
            " [6. 2. 6.]\n",
            " [6. 3. 1.]\n",
            " [6. 3. 2.]\n",
            " [6. 3. 3.]\n",
            " [6. 3. 4.]\n",
            " [6. 3. 5.]\n",
            " [6. 3. 6.]\n",
            " [6. 4. 1.]\n",
            " [6. 4. 2.]\n",
            " [6. 4. 3.]\n",
            " [6. 4. 4.]\n",
            " [6. 4. 5.]\n",
            " [6. 4. 6.]\n",
            " [6. 5. 1.]\n",
            " [6. 5. 2.]\n",
            " [6. 5. 3.]\n",
            " [6. 5. 4.]\n",
            " [6. 5. 5.]\n",
            " [6. 5. 6.]\n",
            " [6. 6. 1.]\n",
            " [6. 6. 2.]\n",
            " [6. 6. 3.]\n",
            " [6. 6. 4.]\n",
            " [6. 6. 5.]\n",
            " [6. 6. 6.]]\n"
          ],
          "name": "stdout"
        }
      ]
    },
    {
      "cell_type": "code",
      "metadata": {
        "colab": {
          "base_uri": "https://localhost:8080/"
        },
        "id": "9IipKhObFsnp",
        "outputId": "dc7b8503-aa7c-43da-d875-7afc9c24821c"
      },
      "source": [
        "sf = np.sum(R,axis=1,dtype=int)\n",
        "print(sf)"
      ],
      "execution_count": null,
      "outputs": [
        {
          "output_type": "stream",
          "text": [
            "[ 3  4  5  6  7  8  4  5  6  7  8  9  5  6  7  8  9 10  6  7  8  9 10 11\n",
            "  7  8  9 10 11 12  8  9 10 11 12 13  4  5  6  7  8  9  5  6  7  8  9 10\n",
            "  6  7  8  9 10 11  7  8  9 10 11 12  8  9 10 11 12 13  9 10 11 12 13 14\n",
            "  5  6  7  8  9 10  6  7  8  9 10 11  7  8  9 10 11 12  8  9 10 11 12 13\n",
            "  9 10 11 12 13 14 10 11 12 13 14 15  6  7  8  9 10 11  7  8  9 10 11 12\n",
            "  8  9 10 11 12 13  9 10 11 12 13 14 10 11 12 13 14 15 11 12 13 14 15 16\n",
            "  7  8  9 10 11 12  8  9 10 11 12 13  9 10 11 12 13 14 10 11 12 13 14 15\n",
            " 11 12 13 14 15 16 12 13 14 15 16 17  8  9 10 11 12 13  9 10 11 12 13 14\n",
            " 10 11 12 13 14 15 11 12 13 14 15 16 12 13 14 15 16 17 13 14 15 16 17 18]\n"
          ],
          "name": "stdout"
        }
      ]
    },
    {
      "cell_type": "code",
      "metadata": {
        "colab": {
          "base_uri": "https://localhost:8080/",
          "height": 265
        },
        "id": "m5T7-OIjGAL7",
        "outputId": "0c1bbe75-cb7f-45f6-dc52-4127c41744ee"
      },
      "source": [
        "probsf = np.zeros(3*nf+1)\n",
        "for i in range(len(sf)):\n",
        "  probsf[sf[i]] = probsf[somafaces[i]] +1\n",
        "probsf = probsf/(nf**3)\n",
        "\n",
        "plt.stem( range(len(probsf)),probsf, use_line_collection=True)\n",
        "plt.xticks(range(len(probsf)))\n",
        "plt.grid('both')"
      ],
      "execution_count": null,
      "outputs": [
        {
          "output_type": "display_data",
          "data": {
            "image/png": "[encoded data removed]",
            "text/plain": [
              "<Figure size 432x288 with 1 Axes>"
            ]
          },
          "metadata": {
            "tags": [],
            "needs_background": "light"
          }
        }
      ]
    },
    {
      "cell_type": "code",
      "metadata": {
        "colab": {
          "base_uri": "https://localhost:8080/",
          "height": 265
        },
        "id": "x2y_1c5wGOsk",
        "outputId": "923bd6c1-7a15-46fd-87b5-b2d5c09c1d1a"
      },
      "source": [
        "nexperimentos = 50000\n",
        "simulacao = np.zeros(3*nfaces+1)\n",
        "for i in range(nexperimentos):\n",
        "  soma = 0\n",
        "  for j in range(3):\n",
        "    soma = soma + random.randint(1,nfaces)\n",
        "  simulacao[soma] = simulacao[soma] +1 \n",
        "simulacao = simulacao/nexperimentos\n",
        "\n",
        "plt.stem( range(len(probsf)),probsf, use_line_collection=True)\n",
        "plt.scatter( range(len(probsf)),simulacao, c='r')\n",
        "plt.xticks(range(len(probsomafaces)))\n",
        "plt.grid('both')"
      ],
      "execution_count": null,
      "outputs": [
        {
          "output_type": "display_data",
          "data": {
            "image/png": "[encoded data removed]",
            "text/plain": [
              "<Figure size 432x288 with 1 Axes>"
            ]
          },
          "metadata": {
            "tags": [],
            "needs_background": "light"
          }
        }
      ]
    }
  ]
}