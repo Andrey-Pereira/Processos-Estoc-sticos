{
  "nbformat": 4,
  "nbformat_minor": 0,
  "metadata": {
    "colab": {
      "name": "Processos Estocásticos - Experimento de Monty Hall",
      "provenance": [],
      "collapsed_sections": [],
      "authorship_tag": "ABX9TyMc1ZZGd8K56SO4l7K9lGoy",
      "include_colab_link": true
    },
    "kernelspec": {
      "name": "python3",
      "display_name": "Python 3"
    },
    "language_info": {
      "name": "python"
    }
  },
  "cells": [
    {
      "cell_type": "markdown",
      "metadata": {
        "id": "view-in-github",
        "colab_type": "text"
      },
      "source": [
        "<a href=\"https://colab.research.google.com/github/Andrey-Pereira/Processos-Estoc-sticos/blob/main/Processos_Estoc%C3%A1sticos_Experimento_de_Monty_Hall.ipynb\" target=\"_parent\"><img src=\"https://colab.research.google.com/assets/colab-badge.svg\" alt=\"Open In Colab\"/></a>"
      ]
    },
    {
      "cell_type": "markdown",
      "metadata": {
        "id": "-RfT56HA4YB0"
      },
      "source": [
        "\n",
        "\n",
        "---\n",
        "Acadêmico Andrey Avila da Silva Pereira - 201812457\n",
        "\n",
        "Engenharia de Telecomunicações\n",
        "\n",
        "\n",
        "---\n",
        "\n",
        "\n",
        "\n",
        "# Experimento de Monty Hall\n",
        "\n",
        "Considere um jogo a seguir: um apresentador, apresenta quatro portas aos concorrentes. Atrás de uma delas estava um prêmio (um carro) e, atrás das outras três, três bodes.\n",
        "\n",
        "1.   Na 1.ª etapa o concorrente escolhe uma das quatro portas (que ainda não é aberta);\n",
        "2.   Na 2.ª etapa, o apresentador abre uma das outras três portas que o concorrente não escolheu, revelando que o carro não se encontra nessa porta e revelando um dos bodes;\n",
        "3.   Na 3.ª etapa o apresentador pergunta ao concorrente se quer decidir permanecer com a porta que escolheu no início do jogo ou se ele pretende mudar para a outra porta que ainda está fechada para então a abrir. Agora, com três portas apenas para escolher — pois uma delas já se viu, na 2.ª etapa, que não tinha o prêmio — e sabendo que o carro está atrás de uma das restantes, o concorrente tem que tomar a decisão.\n",
        "\n",
        "a) Determine a probabilidade do participante vencer o jogo (ganhar o carro) escolhendo trocar a porta na terceira etapa\n",
        "\n",
        "Resolução: \n",
        "\n",
        "Ao escolher uma das três portas e trocar após uma delas ser aberta temos:\n",
        "\n",
        "$$P(vencer) = \\frac{3}{4}$$\n",
        "\n",
        "$$P(vencer) = 0,75$$\n",
        "\n",
        "b) Realize uma simulação de Monte Carlo que comprove o resultado determinado no item a)"
      ]
    },
    {
      "cell_type": "code",
      "metadata": {
        "colab": {
          "base_uri": "https://localhost:8080/",
          "height": 0
        },
        "id": "8wnJDNx9SMyO",
        "outputId": "8d887b08-6e57-466f-91e4-c24fe723d2b6"
      },
      "source": [
        "import random\n",
        "\n",
        "portas = [1,2,3,4]\n",
        "simulação = 100000\n",
        "suposição = 0\n",
        "\n",
        "for i in range(simulação):\n",
        "  p_prêmio = random.choice(portas) \n",
        "  p_selecionada = random.choice(portas)\n",
        "  p_restante = [x for x in portas if x!= p_selecionada and x!= p_prêmio]\n",
        "  p_aberta = random.sample(p_restante, len(portas)-2)\n",
        "  trocar_porta = [x for x in portas if x not in p_aberta if x!= p_selecionada][0]\n",
        "  if p_prêmio == trocar_porta:\n",
        "    suposição += 1\n",
        "\n",
        "resultado = suposição / simulação\n",
        "print(resultado)\n",
        "\n"
      ],
      "execution_count": 50,
      "outputs": [
        {
          "output_type": "stream",
          "text": [
            "0.75123\n"
          ],
          "name": "stdout"
        }
      ]
    }
  ]
}